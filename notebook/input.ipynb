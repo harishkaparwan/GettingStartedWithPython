{
 "cells": [
  {
   "cell_type": "code",
   "execution_count": null,
   "id": "f23013fd",
   "metadata": {},
   "outputs": [],
   "source": [
    "var_a = float(input(\"Input first variable: \"))\n",
    "var_b = float(input(\"Input second variable: \"))\n",
    "\n",
    "print(\"Hypotenuse length is \" + str((var_a**2 + var_b**2) ** .5))\n"
   ]
  },
  {
   "cell_type": "code",
   "execution_count": null,
   "id": "402bd6e2",
   "metadata": {},
   "outputs": [],
   "source": []
  },
  {
   "cell_type": "code",
   "execution_count": null,
   "id": "e47f50cb",
   "metadata": {},
   "outputs": [],
   "source": []
  },
  {
   "cell_type": "code",
   "execution_count": null,
   "id": "0fb1e77c",
   "metadata": {},
   "outputs": [],
   "source": []
  }
 ],
 "metadata": {
  "kernelspec": {
   "display_name": "Python 3",
   "language": "python",
   "name": "python3"
  }
 },
 "nbformat": 4,
 "nbformat_minor": 5
}
