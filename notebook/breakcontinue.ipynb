{
 "cells": [
  {
   "cell_type": "code",
   "execution_count": null,
   "id": "4afd361e",
   "metadata": {},
   "outputs": [],
   "source": [
    "text = \"pyxpyxpyx\"\n",
    "i=0\n",
    "j=0\n",
    "for letter in text:\n",
    "    if letter == \"x\":\n",
    "        j+=1\n",
    "        continue\n",
    "    i+=1\n"
   ]
  },
  {
   "cell_type": "code",
   "execution_count": null,
   "id": "42b7febb",
   "metadata": {},
   "outputs": [],
   "source": []
  },
  {
   "cell_type": "code",
   "execution_count": null,
   "id": "ddb5e96c",
   "metadata": {},
   "outputs": [],
   "source": []
  },
  {
   "cell_type": "code",
   "execution_count": null,
   "id": "5e71e8c8",
   "metadata": {},
   "outputs": [],
   "source": []
  }
 ],
 "metadata": {
  "kernelspec": {
   "display_name": "Python 3",
   "language": "python",
   "name": "python3"
  }
 },
 "nbformat": 4,
 "nbformat_minor": 5
}
