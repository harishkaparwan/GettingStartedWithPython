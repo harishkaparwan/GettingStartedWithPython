{
 "cells": [
  {
   "cell_type": "code",
   "execution_count": null,
   "id": "234a110e",
   "metadata": {},
   "outputs": [],
   "source": [
    "#Comparison:  operator\n",
    "\n",
    "if true_or_not:\n",
    "    do_this_if_true\n",
    "elsif: \n",
    "else:\n"
   ]
  },
  {
   "cell_type": "code",
   "execution_count": null,
   "id": "41b2030c",
   "metadata": {},
   "outputs": [],
   "source": []
  },
  {
   "cell_type": "code",
   "execution_count": null,
   "id": "c9cc8c8b",
   "metadata": {},
   "outputs": [],
   "source": []
  },
  {
   "cell_type": "code",
   "execution_count": null,
   "id": "54c47bcc",
   "metadata": {},
   "outputs": [],
   "source": []
  }
 ],
 "metadata": {
  "kernelspec": {
   "display_name": "Python 3",
   "language": "python",
   "name": "python3"
  }
 },
 "nbformat": 4,
 "nbformat_minor": 5
}
