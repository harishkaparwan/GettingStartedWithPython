{
 "cells": [
  {
   "cell_type": "code",
   "execution_count": null,
   "id": "0ab1779a",
   "metadata": {},
   "outputs": [],
   "source": [
    "#Logical expressions And, OR, NOT, IN\n",
    "'''\n",
    "•\tand → if both operands are true, the condition is true, e.g., (True and True) is True,\n",
    "•\tor → if any of the operands are true, the condition is true, e.g., (True or False) is True,\n",
    "•\tnot → returns false if the result is true, and returns true if the result is false, e.g., not True is\n",
    "'''\n",
    "\n"
   ]
  },
  {
   "cell_type": "code",
   "execution_count": null,
   "id": "271d9efd",
   "metadata": {},
   "outputs": [],
   "source": [
    "var =1\n",
    "print(var != 0)\n",
    "print(not (var == 0))\n",
    "\n",
    "\n",
    "#List\n",
    "my_list = [10, 5, 7, 2, 1]\n",
    "\n",
    "\n",
    "The in and not in operators\n",
    "\n",
    "#elem in my_list\n",
    "#elem not in my_list\n"
   ]
  },
  {
   "cell_type": "code",
   "execution_count": null,
   "id": "bb5c9e72",
   "metadata": {},
   "outputs": [],
   "source": []
  },
  {
   "cell_type": "code",
   "execution_count": null,
   "id": "7625e868",
   "metadata": {},
   "outputs": [],
   "source": []
  },
  {
   "cell_type": "code",
   "execution_count": null,
   "id": "72db3966",
   "metadata": {},
   "outputs": [],
   "source": []
  }
 ],
 "metadata": {
  "kernelspec": {
   "display_name": "Python 3",
   "language": "python",
   "name": "python3"
  }
 },
 "nbformat": 4,
 "nbformat_minor": 5
}
