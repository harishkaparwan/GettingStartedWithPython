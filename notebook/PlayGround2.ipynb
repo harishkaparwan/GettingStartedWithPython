{
 "cells": [
  {
   "cell_type": "code",
   "execution_count": 7,
   "id": "a56d39cc",
   "metadata": {},
   "outputs": [
    {
     "name": "stdout",
     "output_type": "stream",
     "text": [
      "123\n",
      "123\n",
      "300000000.0\n",
      "True\n",
      "None\n"
     ]
    }
   ],
   "source": [
    "#Literals -\n",
    "\n",
    "#String\n",
    "hck = \"123\"\n",
    "print(hck)\n",
    "\n",
    "#Integers\n",
    "hck = 123\n",
    "print(hck)\n",
    "#Floats\n",
    "\n",
    "print(3e8)\n",
    "#Boolean values\n",
    "hck = True\n",
    "print(hck)\n",
    "\n",
    "#None literal\n",
    "hck = None\n",
    "print(hck)\n"
   ]
  },
  {
   "cell_type": "code",
   "execution_count": null,
   "id": "c0c14350",
   "metadata": {},
   "outputs": [],
   "source": []
  },
  {
   "cell_type": "code",
   "execution_count": null,
   "id": "0a7b3ba9",
   "metadata": {},
   "outputs": [],
   "source": []
  }
 ],
 "metadata": {
  "kernelspec": {
   "display_name": "Python 3",
   "language": "python",
   "name": "python3"
  },
  "language_info": {
   "codemirror_mode": {
    "name": "ipython",
    "version": 3
   },
   "file_extension": ".py",
   "mimetype": "text/x-python",
   "name": "python",
   "nbconvert_exporter": "python",
   "pygments_lexer": "ipython3",
   "version": "3.8.5"
  }
 },
 "nbformat": 4,
 "nbformat_minor": 5
}
