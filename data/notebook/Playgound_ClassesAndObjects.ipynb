{
  "cells": [
    {
      "cell_type": "markdown",
      "metadata": {
        "id": "view-in-github",
        "colab_type": "text"
      },
      "source": [
        "<a href=\"https://colab.research.google.com/github/harishkaparwan/GettingStartedWithPython/blob/main/data/notebook/Playgound_ClassesAndObjects.ipynb\" target=\"_parent\"><img src=\"https://colab.research.google.com/assets/colab-badge.svg\" alt=\"Open In Colab\"/></a>"
      ]
    },
    {
      "cell_type": "code",
      "execution_count": null,
      "id": "b668c650",
      "metadata": {
        "id": "b668c650"
      },
      "outputs": [],
      "source": [
        "class FirstClass:\n",
        "    pass"
      ]
    },
    {
      "cell_type": "code",
      "execution_count": null,
      "id": "cf079a3d",
      "metadata": {
        "id": "cf079a3d",
        "outputId": "c3beadb8-b98b-4fba-a13e-4199dc0bcf1c"
      },
      "outputs": [
        {
          "name": "stdout",
          "output_type": "stream",
          "text": [
            "(3, 4)\n"
          ]
        }
      ],
      "source": [
        "#Create a class named FirstClass, use the __init__() function to assign values for name and age:\n",
        "\n",
        "class FirstClass:\n",
        "    def __init__(self, x, y):\n",
        "        self.x = x\n",
        "        self.y = y\n",
        "        \n",
        "    def data(self):\n",
        "        return self.x, self.y\n",
        "    \n",
        "firstClass = FirstClass(3,4)\n",
        "\n",
        "print((firstClass.data()))\n"
      ]
    },
    {
      "cell_type": "code",
      "execution_count": null,
      "id": "a0ae1b11",
      "metadata": {
        "id": "a0ae1b11"
      },
      "outputs": [],
      "source": [
        "# Combination of above\n",
        "class Bird:\n",
        "    def __init__(self, height, weight):\n",
        "        self.height = height\n",
        "        self.weight = weight\n",
        "\n",
        "    def walk(self):\n",
        "        pass\n",
        "\n",
        "    def say(self):\n",
        "        return print('tweet')\n",
        "    "
      ]
    },
    {
      "cell_type": "code",
      "execution_count": null,
      "id": "8a60c3d2",
      "metadata": {
        "id": "8a60c3d2",
        "outputId": "4a9f3098-5bee-46da-d569-c8b7b6e0709f"
      },
      "outputs": [
        {
          "name": "stdout",
          "output_type": "stream",
          "text": [
            "contents of d1: {'instance_var': 100, 'another_var': 'another variable in the object'}\n",
            "contents of d2: {'instance_var': 200}\n"
          ]
        }
      ],
      "source": [
        "#Instance variables\n",
        "class SecondClass:\n",
        "    def __init__(self, value):\n",
        "        self.instance_var = value\n",
        "\n",
        "d1 = SecondClass(100)\n",
        "d2 = SecondClass(200)\n",
        "\n",
        "#instance variables can be created during any moment of an object's life. \n",
        "d1.another_var = 'another variable in the object'\n",
        "\n",
        "print('contents of d1:', d1.__dict__)\n",
        "print('contents of d2:', d2.__dict__)\n",
        "\n"
      ]
    },
    {
      "cell_type": "code",
      "execution_count": null,
      "id": "348ff934",
      "metadata": {
        "id": "348ff934",
        "outputId": "0056149d-a860-40f9-b57f-bc71fb564135"
      },
      "outputs": [
        {
          "name": "stdout",
          "output_type": "stream",
          "text": [
            "shared variable\n",
            "{'__module__': '__main__', 'class_var': 'shared variable', '__dict__': <attribute '__dict__' of 'Demo' objects>, '__weakref__': <attribute '__weakref__' of 'Demo' objects>, '__doc__': None}\n"
          ]
        }
      ],
      "source": [
        "#Class variable\n",
        "class Demo:\n",
        "    class_var = 'shared variable'\n",
        "\n",
        "print(Demo.class_var)\n",
        "print(Demo.__dict__)\n"
      ]
    },
    {
      "cell_type": "code",
      "execution_count": null,
      "id": "fe9c5542",
      "metadata": {
        "id": "fe9c5542"
      },
      "outputs": [],
      "source": [
        "#inheritance\n",
        "class Vehicle:\n",
        "    pass\n",
        "\n",
        "class LandVehicle(Vehicle):\n",
        "    pass\n",
        "\n",
        "class TrackedVehicle(LandVehicle):\n",
        "    pass"
      ]
    },
    {
      "cell_type": "code",
      "execution_count": null,
      "id": "6759c95d",
      "metadata": {
        "id": "6759c95d",
        "outputId": "6deb7896-29d0-4694-b42d-46b717296956"
      },
      "outputs": [
        {
          "name": "stdout",
          "output_type": "stream",
          "text": [
            "Class C\n"
          ]
        }
      ],
      "source": [
        "#Mulitple inheritance\n",
        "class A:\n",
        "    def info(self):\n",
        "        print('Class A')\n",
        "\n",
        "class B(A):\n",
        "    def info(self):\n",
        "        print('Class B')\n",
        "\n",
        "class C(A):\n",
        "    def info(self):\n",
        "        print('Class C')\n",
        "\n",
        "#MRO - Method resolution Order\n",
        "class D(C, B):\n",
        "    pass\n",
        "\n",
        "D().info()\n"
      ]
    },
    {
      "cell_type": "code",
      "execution_count": null,
      "id": "f292e33a",
      "metadata": {
        "id": "f292e33a"
      },
      "outputs": [],
      "source": [
        "def combiner(a, b, *args, **kwargs):\n",
        "    print(a, type(a))\n",
        "    print(b, type(b))\n",
        "    print(args, type(args))\n",
        "    print(kwargs, type(kwargs))\n",
        "\n",
        "\n",
        "combiner(10, '20', 40, 60, 30, argument1=50, argument2='66')\n"
      ]
    },
    {
      "cell_type": "code",
      "execution_count": null,
      "id": "61f0dbba",
      "metadata": {
        "id": "61f0dbba",
        "outputId": "281b83d4-5530-4665-aca8-8a2adb96904a"
      },
      "outputs": [
        {
          "name": "stdout",
          "output_type": "stream",
          "text": [
            "Please validate my account:: It's a fraud\n"
          ]
        }
      ],
      "source": [
        "class Bank_Account:\n",
        "    def __init__(self, iban):\n",
        "        print('__init__ called')\n",
        "        self.iban = iban\n",
        "            \n",
        "    @staticmethod\n",
        "    def validate(iban):\n",
        "        if iban == 8009878900:\n",
        "            return \"You are good\"\n",
        "        else:\n",
        "            return \"It's a fraud\"\n",
        "\n",
        "print(\"Please validate my account::\", Bank_Account.validate(80098789001))"
      ]
    },
    {
      "cell_type": "code",
      "execution_count": null,
      "id": "0767a4f5",
      "metadata": {
        "id": "0767a4f5"
      },
      "outputs": [],
      "source": [
        ""
      ]
    }
  ],
  "metadata": {
    "kernelspec": {
      "display_name": "Python 3",
      "language": "python",
      "name": "python3"
    },
    "language_info": {
      "codemirror_mode": {
        "name": "ipython",
        "version": 3
      },
      "file_extension": ".py",
      "mimetype": "text/x-python",
      "name": "python",
      "nbconvert_exporter": "python",
      "pygments_lexer": "ipython3",
      "version": "3.8.5"
    },
    "colab": {
      "name": "Playgound_ClassesAndObjects.ipynb",
      "provenance": [],
      "include_colab_link": true
    }
  },
  "nbformat": 4,
  "nbformat_minor": 5
}