{
  "cells": [
    {
      "cell_type": "markdown",
      "metadata": {
        "id": "view-in-github",
        "colab_type": "text"
      },
      "source": [
        "<a href=\"https://colab.research.google.com/github/harishkaparwan/GettingStartedWithPython/blob/main/part2/notebook/Playground_Python_DataTypes.ipynb\" target=\"_parent\"><img src=\"https://colab.research.google.com/assets/colab-badge.svg\" alt=\"Open In Colab\"/></a>"
      ]
    },
    {
      "cell_type": "markdown",
      "id": "4f7e05aa",
      "metadata": {
        "id": "4f7e05aa"
      },
      "source": [
        "## Python Data Types  \n",
        "   ## List\n",
        "   ## Dictionaries\n",
        "   ## Tuple\n",
        "   ## Set\n"
      ]
    },
    {
      "cell_type": "markdown",
      "id": "3a56daba",
      "metadata": {
        "id": "3a56daba"
      },
      "source": [
        "## Python - List\n",
        "    ## Lists are used to store multiple items in a single variable.\n",
        "    ## Lists are created using square brackets:\n"
      ]
    },
    {
      "cell_type": "code",
      "execution_count": null,
      "id": "fc4b4321",
      "metadata": {
        "id": "fc4b4321",
        "outputId": "7a9813ad-9cd6-4ec8-8a4b-1575d1069897"
      },
      "outputs": [
        {
          "name": "stdout",
          "output_type": "stream",
          "text": [
            "\n",
            "#Access List :- \n",
            "\n",
            "['PP', 'Select', 'Payment']\n",
            "\n",
            "#Access List using index :- \n",
            "\n",
            "Select\n",
            "\n",
            "#Update List :- \n",
            "\n",
            "['PP', 'CMDB', 'Payment']\n",
            "\n",
            "#Add item in  List :- \n",
            "\n",
            "['PP', 'Select', 'Payment', 'AddToCart']\n",
            "\n",
            "#Removing ELement in  List :- \n",
            "\n",
            "['PP', 'Select']\n",
            "['Select']\n",
            "\n",
            "#Iterate ELement in  List :- \n",
            "\n",
            "PP\n",
            "Select\n",
            "Payment\n",
            "\n",
            "#Sort ELement in  List :- \n",
            "\n",
            "['PP', 'Payment', 'Select']\n",
            "\n",
            "#join List :- \n",
            "\n",
            "['PP', 'Select', 'Payment', 'CMDB']\n"
          ]
        }
      ],
      "source": [
        "## Python List\n",
        "\n",
        "myTeam = [\"PP\", \"Select\", \"Payment\"]\n",
        "\n",
        "print(\"\\n#Access List :- \", end =\"\\n\\n\")\n",
        "print(myTeam)\n",
        "\n",
        "\n",
        "# Access List using index\n",
        "print(\"\\n#Access List using index :- \", end =\"\\n\\n\")\n",
        "print(myTeam[1])\n",
        "\n",
        "# Update List\n",
        "print(\"\\n#Update List :- \", end =\"\\n\\n\")\n",
        "myTeam[1] = \"CMDB\"\n",
        "print(myTeam)\n",
        "\n",
        "# Add List\n",
        "print(\"\\n#Add item in  List :- \", end =\"\\n\\n\")\n",
        "myTeam = [\"PP\", \"Select\", \"Payment\"]\n",
        "myTeam.append(\"AddToCart\")\n",
        "print(myTeam)\n",
        "\n",
        "#Removing ELement\n",
        "print(\"\\n#Removing ELement in  List :- \", end =\"\\n\\n\")\n",
        "\n",
        "myTeam = [\"PP\", \"Select\", \"Payment\"]\n",
        "myTeam.remove(\"Payment\")\n",
        "print(myTeam)\n",
        "del myTeam[0]\n",
        "print(myTeam)\n",
        "\n",
        "\n",
        "#Iterate\n",
        "print(\"\\n#Iterate ELement in  List :- \", end =\"\\n\\n\")\n",
        "\n",
        "myTeam = [\"PP\", \"Select\", \"Payment\"]\n",
        "for x in myTeam:\n",
        "  print(x)\n",
        "\n",
        "#sort list\n",
        "print(\"\\n#Sort ELement in  List :- \", end =\"\\n\\n\")\n",
        "\n",
        "myTeam = [\"PP\", \"Select\", \"Payment\"]\n",
        "myTeam.sort()\n",
        "print(myTeam)\n",
        "\n",
        "#join list\n",
        "print(\"\\n#join List :- \", end =\"\\n\\n\")\n",
        "\n",
        "myTeam = [\"PP\", \"Select\", \"Payment\"]\n",
        "csTeam = [\"CMDB\"]\n",
        "company = myTeam + csTeam\n",
        "print(company)\n",
        "\n",
        "\n"
      ]
    },
    {
      "cell_type": "markdown",
      "id": "8da3118d",
      "metadata": {
        "id": "8da3118d"
      },
      "source": [
        "## Python Tuples\n",
        "    ## A tuple in Python is similar to a list. The difference between the two is that we cannot change the elements of a tuple once it is assigned whereas we can change the elements of a list."
      ]
    },
    {
      "cell_type": "code",
      "execution_count": null,
      "id": "adbd125e",
      "metadata": {
        "id": "adbd125e",
        "outputId": "12405b5d-0e58-4fee-bee1-d75d67e946d9"
      },
      "outputs": [
        {
          "name": "stdout",
          "output_type": "stream",
          "text": [
            "\n",
            "#tuple declaration :- \n",
            "\n",
            "()\n",
            "\n",
            "#Tuple having integers :- \n",
            "\n",
            "(1, 2, 3)\n",
            "\n",
            "#Tuple with mixed datatypes :- \n",
            "\n",
            "(1, 'PP', 3.4)\n",
            "\n",
            "#nested tuple :- \n",
            "\n",
            "('select', [8, 4, 6], (1, 2, 3))\n",
            "\n",
            "#unpacking Tupple :- \n",
            "\n",
            "(3, 4.6, 'checkout')\n",
            "3\n",
            "4.6\n",
            "checkout\n",
            "\n",
            "#join tuple:- \n",
            "\n",
            "(('PP', 'Select', 'Payment'), 'CMDB')\n"
          ]
        }
      ],
      "source": [
        "\n",
        "# Different types of tuples\n",
        "\n",
        "# Empty tuple\n",
        "print(\"\\n#tuple declaration :- \", end =\"\\n\\n\")\n",
        "\n",
        "my_tuple = ()\n",
        "print(my_tuple)\n",
        "\n",
        "# Tuple having integers\n",
        "print(\"\\n#Tuple having integers :- \", end =\"\\n\\n\")\n",
        "\n",
        "my_tuple = (1, 2, 3)\n",
        "print(my_tuple)\n",
        "\n",
        "# tuple with mixed datatypes\n",
        "print(\"\\n#Tuple with mixed datatypes :- \", end =\"\\n\\n\")\n",
        "\n",
        "my_tuple = (1, \"PP\", 3.4)\n",
        "print(my_tuple)\n",
        "\n",
        "\n",
        "# nested tuple\n",
        "print(\"\\n#nested tuple :- \", end =\"\\n\\n\")\n",
        "\n",
        "my_tuple = (\"select\", [8, 4, 6], (1, 2, 3))\n",
        "print(my_tuple)\n",
        "\n",
        "# unpacking Tupple\n",
        "print(\"\\n#unpacking Tupple :- \", end =\"\\n\\n\")\n",
        "\n",
        "my_tuple = 3, 4.6, \"checkout\"\n",
        "print(my_tuple)\n",
        "\n",
        "# tuple unpacking is also possible\n",
        "a, b, c = my_tuple\n",
        "\n",
        "print(a)      # 3\n",
        "print(b)      # 4.6\n",
        "print(c)      # dog\n",
        "\n",
        "\n",
        "#join tuple\n",
        "print(\"\\n#join tuple:- \", end =\"\\n\\n\")\n",
        "\n",
        "myTeam = (\"PP\", \"Select\", \"Payment\")\n",
        "csTeam = (\"CMDB\")\n",
        "\n",
        "mycompanyTupple = (myTeam , csTeam)\n",
        "print(mycompanyTupple)\n"
      ]
    },
    {
      "cell_type": "markdown",
      "id": "0e687211",
      "metadata": {
        "id": "0e687211"
      },
      "source": [
        "## Python - Sets\n",
        "\n",
        "    ## Sets are used to store multiple items in a single variable and sets  is a collection which is unordered, unchangeable, and unindexed.Once set is create you can't change exsiting items but you can update set\n"
      ]
    },
    {
      "cell_type": "code",
      "execution_count": null,
      "id": "66c0e346",
      "metadata": {
        "id": "66c0e346",
        "outputId": "2123e3c9-7e9c-4ce1-9796-a8507ac223ee"
      },
      "outputs": [
        {
          "name": "stdout",
          "output_type": "stream",
          "text": [
            "\n",
            "#Access ELement from sets- \n",
            "\n",
            "PP\n",
            "Select\n",
            "Payment\n",
            "\n",
            "#Adding element in current set- \n",
            "\n",
            "{'PP', 'Select', 'Payment', 'CMDB'}\n",
            "\n",
            "#Remove item from current set- \n",
            "\n",
            "{'Select', 'Payment', 'CMDB'}\n",
            "\n",
            "#Joing sets \n",
            "\n",
            "{'Select', 'CMDB', 'Payment'}\n"
          ]
        }
      ],
      "source": [
        "\n",
        "myTeam = {\"PP\", \"Select\", \"Payment\"}\n",
        "csTeam = {\"CMDB\"}\n",
        "\n",
        "# Access ELement from sets\n",
        "print(\"\\n#Access ELement from sets- \", end =\"\\n\\n\")\n",
        "for x in myTeam:\n",
        "  print(x)\n",
        "\n",
        "# Adding element in current set\n",
        "print(\"\\n#Adding element in current set- \", end =\"\\n\\n\")\n",
        "\n",
        "myTeam.add(\"CMDB\")\n",
        "print(myTeam)\n",
        "\n",
        "#Remove item\n",
        "print(\"\\n#Remove item from current set- \", end =\"\\n\\n\")\n",
        "myTeam.remove(\"PP\")\n",
        "print(myTeam)\n",
        "\n",
        "# Joing sets\n",
        "print(\"\\n#Joing sets \", end =\"\\n\\n\")\n",
        "\n",
        "myTeam.update(csTeam)\n",
        "print(myTeam)\n",
        "\n",
        "mycompanyset = myTeam.update(csTeam)\n",
        "mycompanysets = myTeam.union(csTeam)"
      ]
    },
    {
      "cell_type": "markdown",
      "id": "d933cb4a",
      "metadata": {
        "id": "d933cb4a"
      },
      "source": [
        "## Python - Dictionaries\n",
        "\n",
        "    ## Dictionaries are used to store data values in key:value pairs.A dictionary is a collection which is ordered*, changeable and do not allow duplicates.\n"
      ]
    },
    {
      "cell_type": "code",
      "execution_count": null,
      "id": "733e2525",
      "metadata": {
        "id": "733e2525",
        "outputId": "3697c7b5-2aaf-489d-9704-013da67b0609"
      },
      "outputs": [
        {
          "name": "stdout",
          "output_type": "stream",
          "text": [
            "{'PP': 'Post Purchase', 'Select': 'Select & Category', 'Payment': 'Payment & Checkout'}\n",
            "\n",
            "#Access Items from dictionary- \n",
            "\n",
            "Post Purchase\n",
            "\n",
            "#Access Items using get from dictionary- \n",
            "\n",
            "Post Purchase\n",
            "\n",
            "#Access All keys  from dictionary- \n",
            "\n",
            "dict_keys(['PP', 'Select', 'Payment'])\n",
            "\n",
            "#Access All Values  from dictionary- \n",
            "\n",
            "dict_values(['Post Purchase', 'Select & Category', 'Payment & Checkout'])\n",
            "\n",
            "#Updating dictionary using Keys - \n",
            "\n",
            "{'PP': 'Digital Post Purchase', 'Select': 'Select & Category', 'Payment': 'Payment & Checkout'}\n",
            "{'PP': 'Digital Post Purchase Team', 'Select': 'Select & Category', 'Payment': 'Payment & Checkout'}\n",
            "\n",
            "#Add item in dictionary - \n",
            "\n",
            "{'PP': 'Digital Post Purchase Team', 'Select': 'Select & Category', 'Payment': 'Payment & Checkout', 'DPO': 'Digital Post Purchase', 'DevOps': 'SRE Team'}\n",
            "\n",
            "#Removing item from dictionary - \n",
            "\n",
            "\n",
            "#delete dictionary - \n",
            "\n",
            "\n",
            "#Clear dictionary keys/values - \n",
            "\n",
            "{}\n",
            "#Acces Dict :- \n",
            "\n",
            "PP Post Purchase\n",
            "Select Select & Category\n",
            "Payment Payment & Checkout\n",
            "\n",
            "#Acces Dict using values:- \n",
            "\n",
            "Post Purchase\n",
            "Select & Category\n",
            "Payment & Checkout\n",
            "\n",
            "#Acces Dict using Keys:- \n",
            "\n",
            "PP\n",
            "Select\n",
            "Payment\n",
            "\n",
            "#Acces Dict using Keys,value:- \n",
            "\n",
            "PP=Post Purchase\n",
            "Select=Select & Category\n",
            "Payment=Payment & Checkout\n"
          ]
        }
      ],
      "source": [
        "\n",
        "dict = {\n",
        "  \"PP\": \"Post Purchase\",\n",
        "  \"Select\": \"Select & Category\",\n",
        "  \"Payment\": \"Payment & Checkout\"\n",
        "}\n",
        "print(dict)\n",
        "\n",
        "# Access Items\n",
        "print(\"\\n#Access Items from dictionary- \", end =\"\\n\\n\")\n",
        "pp = dict[\"PP\"]\n",
        "print(pp)\n",
        "\n",
        "print(\"\\n#Access Items using get from dictionary- \", end =\"\\n\\n\")\n",
        "pp = dict.get(\"PP\")\n",
        "print(pp)\n",
        "\n",
        "print(\"\\n#Access All keys  from dictionary- \", end =\"\\n\\n\")\n",
        "allKeys = dict.keys()\n",
        "print(allKeys)\n",
        "\n",
        "print(\"\\n#Access All Values  from dictionary- \", end =\"\\n\\n\")\n",
        "allValues = dict.values()\n",
        "print(allValues)\n",
        "\n",
        "\n",
        "# Updating Dict\n",
        "print(\"\\n#Updating dictionary using Keys - \", end =\"\\n\\n\")\n",
        "dict.update({\"PP\": \"Digital Post Purchase\"})\n",
        "print(dict)\n",
        "dict[\"PP\"] = \"Digital Post Purchase Team\"\n",
        "print(dict)\n",
        "\n",
        "# Add Items in Dict\n",
        "print(\"\\n#Add item in dictionary - \", end =\"\\n\\n\")\n",
        "\n",
        "dict.update({\"DPO\": \"Digital Post Purchase\"})\n",
        "dict[\"DevOps\"] = \"SRE Team\"\n",
        "print(dict)\n",
        "\n",
        "# Removing dict key\n",
        "print(\"\\n#Removing item from dictionary - \", end =\"\\n\\n\")\n",
        "del dict[\"DevOps\"]\n",
        "# will delete dict, it will not exist anymore\n",
        "\n",
        "print(\"\\n#delete dictionary - \", end =\"\\n\\n\")\n",
        "#del dict\n",
        "\n",
        "# Clear dict items but dict will be avaialable\n",
        "print(\"\\n#Clear dictionary keys/values - \", end =\"\\n\\n\")\n",
        "\n",
        "dict.clear()\n",
        "print(dict)\n",
        "\n",
        "# Looping Dict\n",
        "#using dict\n",
        "dict = {\n",
        "  \"PP\": \"Post Purchase\",\n",
        "  \"Select\": \"Select & Category\",\n",
        "  \"Payment\": \"Payment & Checkout\"\n",
        "}\n",
        "print(\"#Acces Dict :- \", end =\"\\n\\n\")\n",
        "\n",
        "for x in dict:\n",
        "  print(x ,dict[x])\n",
        "\n",
        "# only acces values\n",
        "print(\"\\n#Acces Dict using values:- \", end =\"\\n\\n\")\n",
        "for x in dict.values():\n",
        "  print(x)\n",
        "\n",
        "print(\"\\n#Acces Dict using Keys:- \", end =\"\\n\\n\")\n",
        "\n",
        "# only acces Keys\n",
        "for x in dict.keys():\n",
        "  print(x)\n",
        "\n",
        "#Access Keys,value\n",
        "print(\"\\n#Acces Dict using Keys,value:- \", end =\"\\n\\n\")\n",
        "for key,value in dict.items():\n",
        "  print(key,value,sep= \"=\")\n"
      ]
    },
    {
      "cell_type": "code",
      "execution_count": null,
      "id": "aa70c90b",
      "metadata": {
        "id": "aa70c90b"
      },
      "outputs": [],
      "source": [
        "\n"
      ]
    },
    {
      "cell_type": "code",
      "execution_count": null,
      "id": "7be94642",
      "metadata": {
        "id": "7be94642"
      },
      "outputs": [],
      "source": [
        ""
      ]
    }
  ],
  "metadata": {
    "kernelspec": {
      "display_name": "Python 3",
      "language": "python",
      "name": "python3"
    },
    "language_info": {
      "codemirror_mode": {
        "name": "ipython",
        "version": 3
      },
      "file_extension": ".py",
      "mimetype": "text/x-python",
      "name": "python",
      "nbconvert_exporter": "python",
      "pygments_lexer": "ipython3",
      "version": "3.8.5"
    },
    "colab": {
      "name": "Playground_Python_DataTypes.ipynb",
      "provenance": [],
      "include_colab_link": true
    }
  },
  "nbformat": 4,
  "nbformat_minor": 5
}