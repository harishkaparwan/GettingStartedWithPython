{
 "cells": [
  {
   "cell_type": "code",
   "execution_count": 10,
   "id": "47a8c0a0",
   "metadata": {},
   "outputs": [
    {
     "name": "stdout",
     "output_type": "stream",
     "text": [
      " * Serving Flask app \"__main__\" (lazy loading)\n",
      " * Environment: production\n",
      "\u001b[31m   WARNING: This is a development server. Do not use it in a production deployment.\u001b[0m\n",
      "\u001b[2m   Use a production WSGI server instead.\u001b[0m\n",
      " * Debug mode: off\n"
     ]
    },
    {
     "name": "stderr",
     "output_type": "stream",
     "text": [
      " * Running on all addresses.\n",
      "   WARNING: This is a development server. Do not use it in a production deployment.\n",
      " * Running on http://192.168.40.21:84/ (Press CTRL+C to quit)\n",
      "192.168.40.21 - - [08/Sep/2022 04:11:17] \"GET /dashboard HTTP/1.1\" 200 -\n",
      "[2022-09-08 04:11:32,146] ERROR in app: Exception on /product/harish/kaparwan [GET]\n",
      "Traceback (most recent call last):\n",
      "  File \"/opt/anaconda3/lib/python3.8/site-packages/requests/models.py\", line 971, in json\n",
      "    return complexjson.loads(self.text, **kwargs)\n",
      "  File \"/opt/anaconda3/lib/python3.8/json/__init__.py\", line 357, in loads\n",
      "    return _default_decoder.decode(s)\n",
      "  File \"/opt/anaconda3/lib/python3.8/json/decoder.py\", line 337, in decode\n",
      "    obj, end = self.raw_decode(s, idx=_w(s, 0).end())\n",
      "  File \"/opt/anaconda3/lib/python3.8/json/decoder.py\", line 355, in raw_decode\n",
      "    raise JSONDecodeError(\"Expecting value\", s, err.value) from None\n",
      "json.decoder.JSONDecodeError: Expecting value: line 1 column 1 (char 0)\n",
      "\n",
      "During handling of the above exception, another exception occurred:\n",
      "\n",
      "Traceback (most recent call last):\n",
      "  File \"/opt/anaconda3/lib/python3.8/site-packages/flask/app.py\", line 2447, in wsgi_app\n",
      "    response = self.full_dispatch_request()\n",
      "  File \"/opt/anaconda3/lib/python3.8/site-packages/flask/app.py\", line 1952, in full_dispatch_request\n",
      "    rv = self.handle_user_exception(e)\n",
      "  File \"/opt/anaconda3/lib/python3.8/site-packages/flask/app.py\", line 1821, in handle_user_exception\n",
      "    reraise(exc_type, exc_value, tb)\n",
      "  File \"/opt/anaconda3/lib/python3.8/site-packages/flask/_compat.py\", line 39, in reraise\n",
      "    raise value\n",
      "  File \"/opt/anaconda3/lib/python3.8/site-packages/flask/app.py\", line 1950, in full_dispatch_request\n",
      "    rv = self.dispatch_request()\n",
      "  File \"/opt/anaconda3/lib/python3.8/site-packages/flask/app.py\", line 1936, in dispatch_request\n",
      "    return self.view_functions[rule.endpoint](**req.view_args)\n",
      "  File \"/var/folders/m4/d5w1jdf17vx_jvtl25rk8c0m0000gn/T/ipykernel_53158/140455303.py\", line 29, in get_product\n",
      "    r.json()\n",
      "  File \"/opt/anaconda3/lib/python3.8/site-packages/requests/models.py\", line 975, in json\n",
      "    raise RequestsJSONDecodeError(e.msg, e.doc, e.pos)\n",
      "requests.exceptions.JSONDecodeError: Expecting value: line 1 column 1 (char 0)\n",
      "192.168.40.21 - - [08/Sep/2022 04:11:32] \"GET /product/harish/kaparwan HTTP/1.1\" 500 -\n",
      "192.168.40.21 - - [08/Sep/2022 04:11:42] \"GET /product/user/pass HTTP/1.1\" 200 -\n"
     ]
    }
   ],
   "source": [
    "## https://data-flair.training/blogs/python-in-healthcare/\n",
    "\n",
    "import requests\n",
    "r = requests.get('https://httpbin.org/basic-auth/user/pass', auth=('user', 'pass'))\n",
    "r.status_code\n",
    "r.json()\n",
    "\n",
    "\n",
    "from flask import Flask\n",
    "\n",
    "app = Flask(__name__)\n",
    "\n",
    "@app.route('/')\n",
    "def index():\n",
    "    r1 = requests.get('https://httpbin.org/basic-auth/user/pass', auth=('user', 'pass'))\n",
    "    r1.status_code\n",
    "    return r1.json()\n",
    "\n",
    "@app.route('/hck')\n",
    "def hck():\n",
    "    return \"welcome harish\"\n",
    "\n",
    "@app.route('/dashboard')\n",
    "def dashboard():\n",
    "    return \"welcome dashboard\"\n",
    "\n",
    "@app.route('/product/<user>/<password>')\n",
    "def get_product(user,password):\n",
    "    r = requests.get('https://httpbin.org/basic-auth/user/pass', auth=(user, password))\n",
    "    r.status_code\n",
    "    r.json()\n",
    "    return r.json()\n",
    "\n",
    "\n",
    "app.run(host='0.0.0.0', port=84)\n"
   ]
  },
  {
   "cell_type": "code",
   "execution_count": 1,
   "id": "c02de5d0",
   "metadata": {},
   "outputs": [
    {
     "name": "stdout",
     "output_type": "stream",
     "text": [
      "pygame 2.1.2 (SDL 2.0.18, Python 3.8.13)\n",
      "Hello from the pygame community. https://www.pygame.org/contribute.html\n"
     ]
    }
   ],
   "source": [
    "# Simple pygame program\n",
    "\n",
    "# Import and initialize the pygame library\n",
    "import pygame\n",
    "pygame.init()\n",
    "\n",
    "# Set up the drawing window\n",
    "screen = pygame.display.set_mode([500, 500])\n",
    "\n",
    "# Run until the user asks to quit\n",
    "running = True\n",
    "while running:\n",
    "\n",
    "    # Did the user click the window close button?\n",
    "    for event in pygame.event.get():\n",
    "        if event.type == pygame.QUIT:\n",
    "            running = False\n",
    "\n",
    "    # Fill the background with white\n",
    "    screen.fill((255, 255, 255))\n",
    "\n",
    "    # Draw a solid blue circle in the center\n",
    "    pygame.draw.circle(screen, (0, 0, 255), (250, 250), 75)\n",
    "\n",
    "    # Flip the display\n",
    "    pygame.display.flip()\n",
    "\n",
    "# Done! Time to quit.\n",
    "pygame.quit()"
   ]
  },
  {
   "cell_type": "code",
   "execution_count": 1,
   "id": "5caf7a4f",
   "metadata": {},
   "outputs": [
    {
     "name": "stdout",
     "output_type": "stream",
     "text": [
      "pygame 2.1.2 (SDL 2.0.18, Python 3.8.13)\n",
      "Hello from the pygame community. https://www.pygame.org/contribute.html\n"
     ]
    }
   ],
   "source": [
    "import pygame\n",
    "pygame.init()\n",
    "win = pygame.display.set_mode((1280, 720))\n",
    "pygame.display.set_caption(\"Squarey\")"
   ]
  },
  {
   "cell_type": "code",
   "execution_count": 20,
   "id": "6b40701b",
   "metadata": {},
   "outputs": [
    {
     "ename": "ModuleNotFoundError",
     "evalue": "No module named 'gtts'",
     "output_type": "error",
     "traceback": [
      "\u001b[0;31m---------------------------------------------------------------------------\u001b[0m",
      "\u001b[0;31mModuleNotFoundError\u001b[0m                       Traceback (most recent call last)",
      "Input \u001b[0;32mIn [20]\u001b[0m, in \u001b[0;36m<cell line: 7>\u001b[0;34m()\u001b[0m\n\u001b[1;32m      5\u001b[0m \u001b[38;5;28;01mimport\u001b[39;00m \u001b[38;5;21;01mrequests\u001b[39;00m\t\n\u001b[1;32m      6\u001b[0m \u001b[38;5;66;03m#pip3 install gTTS pyttsx3 playsound\u001b[39;00m\n\u001b[0;32m----> 7\u001b[0m \u001b[38;5;28;01mimport\u001b[39;00m \u001b[38;5;21;01mgtts\u001b[39;00m\n\u001b[1;32m      8\u001b[0m \u001b[38;5;28;01mfrom\u001b[39;00m \u001b[38;5;21;01mplaysound\u001b[39;00m \u001b[38;5;28;01mimport\u001b[39;00m playsound\n\u001b[1;32m     10\u001b[0m \u001b[38;5;28;01mdef\u001b[39;00m \u001b[38;5;21mNewsFromBBC\u001b[39m():\n\u001b[1;32m     11\u001b[0m \t\n\u001b[1;32m     12\u001b[0m \t\u001b[38;5;66;03m# BBC news api\u001b[39;00m\n\u001b[1;32m     13\u001b[0m \t\u001b[38;5;66;03m# following query parameters are used\u001b[39;00m\n\u001b[1;32m     14\u001b[0m \t\u001b[38;5;66;03m# source, sortBy and apiKey\u001b[39;00m\n",
      "\u001b[0;31mModuleNotFoundError\u001b[0m: No module named 'gtts'"
     ]
    }
   ],
   "source": [
    "# e25e96be73ec4610addad08937c1a97b\n",
    "# https://www.geeksforgeeks.org/fetching-top-news-using-news-api/\n",
    "\n",
    "# importing requests package\n",
    "import requests\t\n",
    "#pip3 install gTTS pyttsx3 playsound\n",
    "import gtts\n",
    "from playsound import playsound\n",
    "\n",
    "def NewsFromBBC():\n",
    "\t\n",
    "\t# BBC news api\n",
    "\t# following query parameters are used\n",
    "\t# source, sortBy and apiKey\n",
    "\tquery_params = {\n",
    "\t\"source\": \"bbc-news\",\n",
    "\t\"sortBy\": \"top\",\n",
    "\t\"apiKey\": \"e25e96be73ec4610addad08937c1a97b\"\n",
    "\t}\n",
    "\tmain_url = \" https://newsapi.org/v1/articles\"\n",
    "\n",
    "\t# fetching data in json format\n",
    "\tres = requests.get(main_url, params=query_params)\n",
    "\topen_bbc_page = res.json()\n",
    "\n",
    "\t# getting all articles in a string article\n",
    "\tarticle = open_bbc_page[\"articles\"]\n",
    "\n",
    "\t# empty list which will\n",
    "\t# contain all trending news\n",
    "\tresults = []\n",
    "\t\n",
    "\tfor ar in article:\n",
    "\t\tresults.append(ar[\"title\"])\n",
    "\t\t\n",
    "\tfor i in range(len(results)):\n",
    "\t\t\n",
    "\t\t# printing all trending news\n",
    "\t\tprint(i + 1, results[i])\n",
    "\n",
    "\t#to read the news out loud for us\n",
    "\ttts = gtts.gTTS(results)\n",
    "\ttts.save(\"hola.mp3\")\n",
    "\tplaysound(\"hola.mp3\")\n",
    "    #speak = Dispatch(\"SAPI.Spvoice\")\n",
    "    #speak.Speak(results)\t\t\t\t\n",
    "\n",
    "# Driver Code\n",
    "if __name__ == '__main__':\n",
    "\t\n",
    "\t# function call\n",
    "\tNewsFromBBC()\n",
    "\n"
   ]
  },
  {
   "cell_type": "code",
   "execution_count": null,
   "id": "a09192bb",
   "metadata": {},
   "outputs": [],
   "source": []
  }
 ],
 "metadata": {
  "kernelspec": {
   "display_name": "Python 3 (ipykernel)",
   "language": "python",
   "name": "python3"
  },
  "language_info": {
   "codemirror_mode": {
    "name": "ipython",
    "version": 3
   },
   "file_extension": ".py",
   "mimetype": "text/x-python",
   "name": "python",
   "nbconvert_exporter": "python",
   "pygments_lexer": "ipython3",
   "version": "3.8.13"
  }
 },
 "nbformat": 4,
 "nbformat_minor": 5
}
