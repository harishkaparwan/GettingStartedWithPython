{
  "cells": [
    {
      "cell_type": "markdown",
      "metadata": {
        "id": "view-in-github",
        "colab_type": "text"
      },
      "source": [
        "<a href=\"https://colab.research.google.com/github/harishkaparwan/GettingStartedWithPython/blob/main/part2/notebook/Playground_Functions.ipynb\" target=\"_parent\"><img src=\"https://colab.research.google.com/assets/colab-badge.svg\" alt=\"Open In Colab\"/></a>"
      ]
    },
    {
      "cell_type": "code",
      "execution_count": null,
      "id": "a2e6fdd5",
      "metadata": {
        "id": "a2e6fdd5",
        "outputId": "35654e09-fcfc-4c19-e25a-5670e6c1c38e"
      },
      "outputs": [
        {
          "data": {
            "text/plain": [
              "2.5"
            ]
          },
          "execution_count": 2,
          "metadata": {},
          "output_type": "execute_result"
        }
      ],
      "source": [
        "def avg(first, *rest):\n",
        "    return (first + sum(rest)) / (1 + len(rest))\n",
        "# Sample use\n",
        "avg(1, 2)\n",
        "avg(1, 2, 3, 4)"
      ]
    },
    {
      "cell_type": "code",
      "execution_count": null,
      "id": "3ca8ad64",
      "metadata": {
        "id": "3ca8ad64"
      },
      "outputs": [],
      "source": [
        "def recv(maxsize, *, block): \n",
        "    'Receives a message' \n",
        "    pass"
      ]
    },
    {
      "cell_type": "code",
      "execution_count": null,
      "id": "fcaa2fd0",
      "metadata": {
        "id": "fcaa2fd0",
        "outputId": "248abd36-5f22-4ba3-9a5b-2021184348f9"
      },
      "outputs": [
        {
          "name": "stdout",
          "output_type": "stream",
          "text": [
            "1 2 3\n"
          ]
        }
      ],
      "source": [
        "def myfun():\n",
        "    return 1, 2, 3\n",
        "\n",
        "a, b, c = myfun()\n",
        "print(a,b,c)"
      ]
    },
    {
      "cell_type": "code",
      "execution_count": null,
      "id": "bad2f437",
      "metadata": {
        "id": "bad2f437",
        "outputId": "69eb0844-42ad-4c1b-837d-b232556ae515"
      },
      "outputs": [
        {
          "name": "stdout",
          "output_type": "stream",
          "text": [
            "1 42\n",
            "1 2\n"
          ]
        }
      ],
      "source": [
        "#Defining Functions with Default Arguments\n",
        "def spam(a, b=42): \n",
        "    print(a, b)\n",
        "spam(1)\n",
        "spam(1,2)\n",
        "      "
      ]
    },
    {
      "cell_type": "code",
      "execution_count": null,
      "id": "76181854",
      "metadata": {
        "id": "76181854",
        "outputId": "9682860b-b095-46f6-889a-70d01d1078d4"
      },
      "outputs": [
        {
          "name": "stdout",
          "output_type": "stream",
          "text": [
            "5\n",
            "5\n"
          ]
        }
      ],
      "source": [
        "#Simple functions that do nothing more than evaluate an expression can be replaced by a lambda expression.\n",
        "add = lambda x, y: x + y\n",
        "print(add(2,3))\n",
        "\n",
        "def add(x, y):\n",
        "    return x + y\n",
        "print(add(2,3))"
      ]
    },
    {
      "cell_type": "code",
      "execution_count": null,
      "id": "c5eb36ce",
      "metadata": {
        "id": "c5eb36ce",
        "outputId": "b12c73d1-7923-4819-b347-6740b2d7c61a"
      },
      "outputs": [
        {
          "name": "stdout",
          "output_type": "stream",
          "text": [
            "n= 0\n",
            "None\n",
            "n= 10\n",
            "None\n",
            "10\n"
          ]
        }
      ],
      "source": [
        "#closure with functions\n",
        "def sample(): \n",
        "    n=0\n",
        "# Closure function\n",
        "    def func(): \n",
        "        print('n=', n)\n",
        "        # Accessor methods for n\n",
        "    def get_n(): \n",
        "        return n\n",
        "    def set_n(value): \n",
        "        nonlocal n\n",
        "        n = value\n",
        "        # Attach as function attributes\n",
        "    func.get_n = get_n \n",
        "    func.set_n = set_n \n",
        "    return func\n",
        "f = sample()\n",
        "print(f())\n",
        "f.set_n(10)\n",
        "print(f())\n",
        "print(f.get_n())"
      ]
    },
    {
      "cell_type": "code",
      "execution_count": null,
      "id": "e7fd2b3e",
      "metadata": {
        "id": "e7fd2b3e"
      },
      "outputs": [],
      "source": [
        ""
      ]
    }
  ],
  "metadata": {
    "kernelspec": {
      "display_name": "Python 3",
      "language": "python",
      "name": "python3"
    },
    "language_info": {
      "codemirror_mode": {
        "name": "ipython",
        "version": 3
      },
      "file_extension": ".py",
      "mimetype": "text/x-python",
      "name": "python",
      "nbconvert_exporter": "python",
      "pygments_lexer": "ipython3",
      "version": "3.8.5"
    },
    "colab": {
      "name": "Playground_Functions.ipynb",
      "provenance": [],
      "include_colab_link": true
    }
  },
  "nbformat": 4,
  "nbformat_minor": 5
}