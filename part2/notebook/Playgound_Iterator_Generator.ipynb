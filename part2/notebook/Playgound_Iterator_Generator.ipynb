{
  "cells": [
    {
      "cell_type": "markdown",
      "metadata": {
        "id": "view-in-github",
        "colab_type": "text"
      },
      "source": [
        "<a href=\"https://colab.research.google.com/github/harishkaparwan/GettingStartedWithPython/blob/main/part2/notebook/Playgound_Iterator_Generator.ipynb\" target=\"_parent\"><img src=\"https://colab.research.google.com/assets/colab-badge.svg\" alt=\"Open In Colab\"/></a>"
      ]
    },
    {
      "cell_type": "code",
      "execution_count": null,
      "id": "6f6c98e6",
      "metadata": {
        "id": "6f6c98e6",
        "outputId": "93b32a99-2093-47fc-e31b-5b08d52c51b2"
      },
      "outputs": [
        {
          "name": "stdout",
          "output_type": "stream",
          "text": [
            "1\n",
            "2\n",
            "3\n",
            "##\n",
            "# User Database\n",
            "# \n",
            "# Note that this file is consulted directly only when the system is running\n",
            "# in single-user mode.  At other times this information is provided by\n",
            "# Open Directory.\n",
            "#\n",
            "# See the opendirectoryd(8) man page for additional information about\n",
            "# Open Directory.\n",
            "##\n",
            "nobody:*:-2:-2:Unprivileged User:/var/empty:/usr/bin/false\n",
            "root:*:0:0:System Administrator:/var/root:/bin/sh\n",
            "daemon:*:1:1:System Services:/var/root:/usr/bin/false\n",
            "_uucp:*:4:4:Unix to Unix Copy Protocol:/var/spool/uucp:/usr/sbin/uucico\n",
            "_taskgated:*:13:13:Task Gate Daemon:/var/empty:/usr/bin/false\n",
            "_networkd:*:24:24:Network Services:/var/networkd:/usr/bin/false\n",
            "_installassistant:*:25:25:Install Assistant:/var/empty:/usr/bin/false\n",
            "_lp:*:26:26:Printing Services:/var/spool/cups:/usr/bin/false\n",
            "_postfix:*:27:27:Postfix Mail Server:/var/spool/postfix:/usr/bin/false\n",
            "_scsd:*:31:31:Service Configuration Service:/var/empty:/usr/bin/false\n",
            "_ces:*:32:32:Certificate Enrollment Service:/var/empty:/usr/bin/false\n",
            "_appstore:*:33:33:Mac App Store Service:/var/db/appstore:/usr/bin/false\n",
            "_mcxalr:*:54:54:MCX AppLaunch:/var/empty:/usr/bin/false\n",
            "_appleevents:*:55:55:AppleEvents Daemon:/var/empty:/usr/bin/false\n",
            "_geod:*:56:56:Geo Services Daemon:/var/db/geod:/usr/bin/false\n",
            "_devdocs:*:59:59:Developer Documentation:/var/empty:/usr/bin/false\n",
            "_sandbox:*:60:60:Seatbelt:/var/empty:/usr/bin/false\n",
            "_mdnsresponder:*:65:65:mDNSResponder:/var/empty:/usr/bin/false\n",
            "_ard:*:67:67:Apple Remote Desktop:/var/empty:/usr/bin/false\n",
            "_www:*:70:70:World Wide Web Server:/Library/WebServer:/usr/bin/false\n",
            "_eppc:*:71:71:Apple Events User:/var/empty:/usr/bin/false\n",
            "_cvs:*:72:72:CVS Server:/var/empty:/usr/bin/false\n",
            "_svn:*:73:73:SVN Server:/var/empty:/usr/bin/false\n",
            "_mysql:*:74:74:MySQL Server:/var/empty:/usr/bin/false\n",
            "_sshd:*:75:75:sshd Privilege separation:/var/empty:/usr/bin/false\n",
            "_qtss:*:76:76:QuickTime Streaming Server:/var/empty:/usr/bin/false\n",
            "_cyrus:*:77:6:Cyrus Administrator:/var/imap:/usr/bin/false\n",
            "_mailman:*:78:78:Mailman List Server:/var/empty:/usr/bin/false\n",
            "_appserver:*:79:79:Application Server:/var/empty:/usr/bin/false\n",
            "_clamav:*:82:82:ClamAV Daemon:/var/virusmails:/usr/bin/false\n",
            "_amavisd:*:83:83:AMaViS Daemon:/var/virusmails:/usr/bin/false\n",
            "_jabber:*:84:84:Jabber XMPP Server:/var/empty:/usr/bin/false\n",
            "_appowner:*:87:87:Application Owner:/var/empty:/usr/bin/false\n",
            "_windowserver:*:88:88:WindowServer:/var/empty:/usr/bin/false\n",
            "_spotlight:*:89:89:Spotlight:/var/empty:/usr/bin/false\n",
            "_tokend:*:91:91:Token Daemon:/var/empty:/usr/bin/false\n",
            "_securityagent:*:92:92:SecurityAgent:/var/db/securityagent:/usr/bin/false\n",
            "_calendar:*:93:93:Calendar:/var/empty:/usr/bin/false\n",
            "_teamsserver:*:94:94:TeamsServer:/var/teamsserver:/usr/bin/false\n",
            "_update_sharing:*:95:-2:Update Sharing:/var/empty:/usr/bin/false\n",
            "_installer:*:96:-2:Installer:/var/empty:/usr/bin/false\n",
            "_atsserver:*:97:97:ATS Server:/var/empty:/usr/bin/false\n",
            "_ftp:*:98:-2:FTP Daemon:/var/empty:/usr/bin/false\n",
            "_unknown:*:99:99:Unknown User:/var/empty:/usr/bin/false\n",
            "_softwareupdate:*:200:200:Software Update Service:/var/db/softwareupdate:/usr/bin/false\n",
            "_coreaudiod:*:202:202:Core Audio Daemon:/var/empty:/usr/bin/false\n",
            "_screensaver:*:203:203:Screensaver:/var/empty:/usr/bin/false\n",
            "_locationd:*:205:205:Location Daemon:/var/db/locationd:/usr/bin/false\n",
            "_trustevaluationagent:*:208:208:Trust Evaluation Agent:/var/empty:/usr/bin/false\n",
            "_timezone:*:210:210:AutoTimeZoneDaemon:/var/empty:/usr/bin/false\n",
            "_lda:*:211:211:Local Delivery Agent:/var/empty:/usr/bin/false\n",
            "_cvmsroot:*:212:212:CVMS Root:/var/empty:/usr/bin/false\n",
            "_usbmuxd:*:213:213:iPhone OS Device Helper:/var/db/lockdown:/usr/bin/false\n",
            "_dovecot:*:214:6:Dovecot Administrator:/var/empty:/usr/bin/false\n",
            "_dpaudio:*:215:215:DP Audio:/var/empty:/usr/bin/false\n",
            "_postgres:*:216:216:PostgreSQL Server:/var/empty:/usr/bin/false\n",
            "_krbtgt:*:217:-2:Kerberos Ticket Granting Ticket:/var/empty:/usr/bin/false\n",
            "_kadmin_admin:*:218:-2:Kerberos Admin Service:/var/empty:/usr/bin/false\n",
            "_kadmin_changepw:*:219:-2:Kerberos Change Password Service:/var/empty:/usr/bin/false\n",
            "_devicemgr:*:220:220:Device Management Server:/var/empty:/usr/bin/false\n",
            "_webauthserver:*:221:221:Web Auth Server:/var/empty:/usr/bin/false\n",
            "_netbios:*:222:222:NetBIOS:/var/empty:/usr/bin/false\n",
            "_warmd:*:224:224:Warm Daemon:/var/empty:/usr/bin/false\n",
            "_dovenull:*:227:227:Dovecot Authentication:/var/empty:/usr/bin/false\n",
            "_netstatistics:*:228:228:Network Statistics Daemon:/var/empty:/usr/bin/false\n",
            "_avbdeviced:*:229:-2:Ethernet AVB Device Daemon:/var/empty:/usr/bin/false\n",
            "_krb_krbtgt:*:230:-2:Open Directory Kerberos Ticket Granting Ticket:/var/empty:/usr/bin/false\n",
            "_krb_kadmin:*:231:-2:Open Directory Kerberos Admin Service:/var/empty:/usr/bin/false\n",
            "_krb_changepw:*:232:-2:Open Directory Kerberos Change Password Service:/var/empty:/usr/bin/false\n",
            "_krb_kerberos:*:233:-2:Open Directory Kerberos:/var/empty:/usr/bin/false\n",
            "_krb_anonymous:*:234:-2:Open Directory Kerberos Anonymous:/var/empty:/usr/bin/false\n",
            "_assetcache:*:235:235:Asset Cache Service:/var/empty:/usr/bin/false\n",
            "_coremediaiod:*:236:236:Core Media IO Daemon:/var/empty:/usr/bin/false\n",
            "_launchservicesd:*:239:239:_launchservicesd:/var/empty:/usr/bin/false\n",
            "_iconservices:*:240:240:IconServices:/var/empty:/usr/bin/false\n",
            "_distnote:*:241:241:DistNote:/var/empty:/usr/bin/false\n",
            "_nsurlsessiond:*:242:242:NSURLSession Daemon:/var/db/nsurlsessiond:/usr/bin/false\n",
            "_displaypolicyd:*:244:244:Display Policy Daemon:/var/empty:/usr/bin/false\n",
            "_astris:*:245:245:Astris Services:/var/db/astris:/usr/bin/false\n",
            "_krbfast:*:246:-2:Kerberos FAST Account:/var/empty:/usr/bin/false\n",
            "_gamecontrollerd:*:247:247:Game Controller Daemon:/var/empty:/usr/bin/false\n",
            "_mbsetupuser:*:248:248:Setup User:/var/setup:/bin/bash\n",
            "_ondemand:*:249:249:On Demand Resource Daemon:/var/db/ondemand:/usr/bin/false\n",
            "_xserverdocs:*:251:251:macOS Server Documents Service:/var/empty:/usr/bin/false\n",
            "_wwwproxy:*:252:252:WWW Proxy:/var/empty:/usr/bin/false\n",
            "_mobileasset:*:253:253:MobileAsset User:/var/ma:/usr/bin/false\n",
            "_findmydevice:*:254:254:Find My Device Daemon:/var/db/findmydevice:/usr/bin/false\n",
            "_datadetectors:*:257:257:DataDetectors:/var/db/datadetectors:/usr/bin/false\n",
            "_captiveagent:*:258:258:captiveagent:/var/empty:/usr/bin/false\n",
            "_ctkd:*:259:259:ctkd Account:/var/empty:/usr/bin/false\n",
            "_applepay:*:260:260:applepay Account:/var/db/applepay:/usr/bin/false\n",
            "_hidd:*:261:261:HID Service User:/var/db/hidd:/usr/bin/false\n",
            "_cmiodalassistants:*:262:262:CoreMedia IO Assistants User:/var/db/cmiodalassistants:/usr/bin/false\n",
            "_analyticsd:*:263:263:Analytics Daemon:/var/db/analyticsd:/usr/bin/false\n",
            "_fpsd:*:265:265:FPS Daemon:/var/db/fpsd:/usr/bin/false\n",
            "_timed:*:266:266:Time Sync Daemon:/var/db/timed:/usr/bin/false\n",
            "_nearbyd:*:268:268:Proximity and Ranging Daemon:/var/db/nearbyd:/usr/bin/false\n",
            "_reportmemoryexception:*:269:269:ReportMemoryException:/var/db/reportmemoryexception:/usr/bin/false\n",
            "_driverkit:*:270:270:DriverKit:/var/empty:/usr/bin/false\n",
            "_diskimagesiod:*:271:271:DiskImages IO Daemon:/var/db/diskimagesiod:/usr/bin/false\n",
            "_logd:*:272:272:Log Daemon:/var/db/diagnostics:/usr/bin/false\n",
            "_appinstalld:*:273:273:App Install Daemon:/var/db/appinstalld:/usr/bin/false\n",
            "_installcoordinationd:*:274:274:Install Coordination Daemon:/var/db/installcoordinationd:/usr/bin/false\n",
            "_demod:*:275:275:Demo Daemon:/var/empty:/usr/bin/false\n",
            "_rmd:*:277:277:Remote Management Daemon:/var/db/rmd:/usr/bin/false\n",
            "_accessoryupdater:*:278:278:Accessory Update Daemon:/var/db/accessoryupdater:/usr/bin/false\n",
            "_knowledgegraphd:*:279:279:Knowledge Graph Daemon:/var/db/knowledgegraphd:/usr/bin/false\n",
            "_coreml:*:280:280:CoreML Services:/var/empty:/usr/bin/false\n",
            "_sntpd:*:281:281:SNTP Server Daemon:/var/empty:/usr/bin/false\n",
            "_trustd:*:282:282:trustd:/var/empty:/usr/bin/false\n",
            "_darwindaemon:*:284:284:Darwin Daemon:/var/db/darwindaemon:/usr/bin/false\n",
            "_notification_proxy:*:285:285:Notification Proxy:/var/empty:/usr/bin/false\n",
            "_oahd:*:441:441:OAH Daemon:/var/empty:/usr/bin/false\n"
          ]
        }
      ],
      "source": [
        "#manual way of iteration\n",
        "items = [1, 2, 3]\n",
        "it = iter(items)\n",
        "print(next(it))\n",
        "print(next(it))\n",
        "print(next(it))\n",
        "\n",
        "\n",
        "with open('/etc/passwd') as f: \n",
        "    try:\n",
        "        while True:\n",
        "            line = next(f)\n",
        "            print(line, end='') \n",
        "    except StopIteration:\n",
        "        pass\n"
      ]
    },
    {
      "cell_type": "code",
      "execution_count": null,
      "id": "4149b116",
      "metadata": {
        "id": "4149b116",
        "outputId": "2024e3bc-f69e-4de0-d8a3-68cb79fd912e"
      },
      "outputs": [
        {
          "name": "stdout",
          "output_type": "stream",
          "text": [
            "0 a\n",
            "1 b\n",
            "2 c\n",
            "1 101 200\n",
            "5 78 201\n",
            "4 37 203\n",
            "2 15 204\n",
            "10 62 206\n",
            "7 99 207\n",
            "1 101 200\n",
            "5 78 201\n",
            "4 37 203\n",
            "2 15 204\n",
            "10 62 206\n",
            "7 99 207\n",
            "None None 1\n",
            "{'name': 'ACME', 'shares': 100, 'price': 490.1}\n",
            "name = ACME\n",
            "shares = 100\n",
            "price = 490.1\n",
            "10 1 2\n",
            "11 3 4\n",
            "12 5 6\n",
            "13 7 8\n"
          ]
        }
      ],
      "source": [
        "#4.10. Iterating Over the Index-Value Pairs of a Sequence\n",
        "# YOu can start  with (my_list,1) \n",
        "my_list = ['a', 'b', 'c']\n",
        "for idx, val in enumerate(my_list):\n",
        "    print(idx, val)\n",
        "\n",
        "#To iterate over more than one sequence simultaneously, use the zip() function. For\n",
        "#zip(a, b) works by creating an iterator that produces tuples (x, y) w\n",
        "#here x is taken from a and y is taken from b. Iteration stops whenever one of the input sequences \n",
        "#is exhausted. Thus, the length of the iteration is the same as the length of the shortest \n",
        "#input. For example:\n",
        "xpts = [1, 5, 4, 2, 10, 7]\n",
        "ypts = [101, 78, 37, 15, 62, 99]\n",
        "zpts = [200, 201, 203, 204, 206, 207]\n",
        "for x, y, z in zip(xpts, ypts,zpts):\n",
        "    print(x,y,z)\n",
        "\n",
        "#from itertools import zip_longest\n",
        "from itertools import zip_longest\n",
        "xpts = [1, 5, 4, 2, 10, 7]\n",
        "ypts = [101, 78, 37, 15, 62, 99]\n",
        "zpts = [200, 201, 203, 204, 206, 207,1]\n",
        "for x, y, z in zip_longest(xpts, ypts,zpts):\n",
        "    print(x,y,z)\n",
        "\n",
        "#Using zip(), you can pair the values together to make a dictionary like this:\n",
        "headers = ['name', 'shares', 'price']\n",
        "values = ['ACME', 100, 490.1]\n",
        "\n",
        "\n",
        "s = dict(zip(headers,values))\n",
        "print(s)\n",
        "for name, val in zip(headers, values): \n",
        "    print(name, '=', val)\n",
        "\n",
        "    \n",
        "data = [ (1, 2), (3, 4), (5, 6), (7, 8) ]\n",
        "for n, (x,y) in enumerate(data,10):\n",
        "    print(n,x,y)"
      ]
    },
    {
      "cell_type": "code",
      "execution_count": null,
      "id": "f6b601fa",
      "metadata": {
        "id": "f6b601fa",
        "outputId": "d24e2241-e648-4f92-90d2-7450b860bc76"
      },
      "outputs": [
        {
          "name": "stdout",
          "output_type": "stream",
          "text": [
            "0\n",
            "0.5\n",
            "1.0\n",
            "1.5\n",
            "2.0\n",
            "2.5\n",
            "3.0\n",
            "3.5\n"
          ]
        }
      ],
      "source": [
        "#custome generator function for iterator\n",
        "def genratorFN(start, stop, increment): \n",
        "    x = start\n",
        "    while x < stop: \n",
        "        yield x\n",
        "        x += increment\n",
        "for n in genratorFN(0, 4, 0.5): \n",
        "    print(n)\n"
      ]
    },
    {
      "cell_type": "code",
      "execution_count": null,
      "id": "8094448f",
      "metadata": {
        "id": "8094448f"
      },
      "outputs": [],
      "source": [
        "#it will skip line which start with '#'\n",
        "from itertools import dropwhile\n",
        "with open('/etc/passwd') as f:\n",
        "     for line in dropwhile(lambda line: line.startswith('#'), f): \n",
        "        print(line, end='')"
      ]
    },
    {
      "cell_type": "code",
      "execution_count": null,
      "id": "45f0e3ee",
      "metadata": {
        "id": "45f0e3ee"
      },
      "outputs": [],
      "source": [
        ""
      ]
    }
  ],
  "metadata": {
    "kernelspec": {
      "display_name": "Python 3",
      "language": "python",
      "name": "python3"
    },
    "language_info": {
      "codemirror_mode": {
        "name": "ipython",
        "version": 3
      },
      "file_extension": ".py",
      "mimetype": "text/x-python",
      "name": "python",
      "nbconvert_exporter": "python",
      "pygments_lexer": "ipython3",
      "version": "3.8.5"
    },
    "colab": {
      "name": "Playgound_Iterator_Generator.ipynb",
      "provenance": [],
      "include_colab_link": true
    }
  },
  "nbformat": 4,
  "nbformat_minor": 5
}