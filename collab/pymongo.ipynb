{
 "cells": [
  {
   "cell_type": "code",
   "execution_count": 1,
   "id": "239fc314",
   "metadata": {},
   "outputs": [
    {
     "name": "stdout",
     "output_type": "stream",
     "text": [
      "admin\n",
      "config\n",
      "local\n",
      "['startup_log']\n",
      "df ==     0         1    2          3               4        5          6\n",
      "0  id  hostname  pid  startTime  startTimeLocal  cmdLine  buildinfo\n",
      "df1 == Empty DataFrame\n",
      "Columns: []\n",
      "Index: []\n"
     ]
    }
   ],
   "source": [
    "import pandas as pd\n",
    "import matplotlib.pyplot as plt\n",
    "from mongoengine import *\n",
    "\n",
    "con=connect(host=\"mongodb://localhost:27017/local\")\n",
    "\n",
    "#dbs=con.list_database_names()\n",
    "\n",
    "for db in dbs:\n",
    "    print (db)\n",
    "collections=con['local'].list_collection_names()\n",
    "print(collections)\n",
    "class startup_log (DynamicDocument):\n",
    "    \n",
    "    hostname = StringField()\n",
    "    pid = IntField()\n",
    "\n",
    "class listingsAndReviews (DynamicDocument):\n",
    "    #name = StringField(db_field=\"name\")\n",
    "    name = StringField()\n",
    "    bedrooms = IntField()\n",
    "    #bedrooms = IntField(db_field=\"bedrooms\")\n",
    "\n",
    "\n",
    "for product1 in listingsAndReviews.objects:\n",
    "    print ('name:',product1.name, 'bedrooms:',product.bedrooms)\n",
    "\n",
    "entries = list(startup_log.objects)\n",
    "df = pd.DataFrame(entries)\n",
    "df.head()\n",
    "print(\"df ==\", df)\n",
    "\n",
    "entries1 = list(listingsAndReviews.objects)\n",
    "df1 = pd.DataFrame(entries1)\n",
    "df1.head()\n",
    "print(\"df1 ==\", df1)\n",
    "\n",
    "#df.plot(kind=\"bar\", x=\"hostname\", y=\"pid\")\n",
    "#df.plot('product.hostname')\n",
    "#f = startup_log.objects.only('property_type')\n",
    "#f1 = startup_log.objects.only('bedrooms')\n",
    "#df = pandas.read_sql(\"SELECT borough, cuisine FROM restaurants WHERE Name = 'Morris Park Bake Shop'\", con)\n",
    "\n",
    "#df = pandas.read_sql(\"SELECT property_type, bedrooms FROM startup_log\", con)\n",
    "\n",
    "#df.plot(kind=\"bar\", x=\"property_type\", y=\"bedrooms\")\n",
    "#plt.show()\n",
    "#data = pandas.DataFrame(list(startup_log.objects.find()))"
   ]
  },
  {
   "cell_type": "code",
   "execution_count": null,
   "id": "cac53d30",
   "metadata": {},
   "outputs": [],
   "source": [
    "test"
   ]
  },
  {
   "cell_type": "code",
   "execution_count": null,
   "id": "47766d48",
   "metadata": {},
   "outputs": [],
   "source": []
  },
  {
   "cell_type": "code",
   "execution_count": null,
   "id": "1d287d46",
   "metadata": {},
   "outputs": [],
   "source": []
  },
  {
   "cell_type": "code",
   "execution_count": null,
   "id": "ab099109",
   "metadata": {},
   "outputs": [],
   "source": []
  },
  {
   "cell_type": "code",
   "execution_count": null,
   "id": "6b3e9a5f",
   "metadata": {},
   "outputs": [],
   "source": []
  }
 ],
 "metadata": {
  "kernelspec": {
   "display_name": "Python 3",
   "language": "python",
   "name": "python3"
  },
  "language_info": {
   "codemirror_mode": {
    "name": "ipython",
    "version": 3
   },
   "file_extension": ".py",
   "mimetype": "text/x-python",
   "name": "python",
   "nbconvert_exporter": "python",
   "pygments_lexer": "ipython3",
   "version": "3.8.5"
  }
 },
 "nbformat": 4,
 "nbformat_minor": 5
}
